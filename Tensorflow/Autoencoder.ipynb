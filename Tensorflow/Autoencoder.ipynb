{
  "nbformat": 4,
  "nbformat_minor": 0,
  "metadata": {
    "colab": {
      "name": "Autoencoder.ipynb",
      "provenance": [],
      "authorship_tag": "ABX9TyP96wkpJvMKK1I0kvKqiIdI",
      "include_colab_link": true
    },
    "kernelspec": {
      "name": "python3",
      "display_name": "Python 3"
    },
    "accelerator": "GPU"
  },
  "cells": [
    {
      "cell_type": "markdown",
      "metadata": {
        "id": "view-in-github",
        "colab_type": "text"
      },
      "source": [
        "<a href=\"https://colab.research.google.com/github/charlieswb/Learning/blob/master/Tensorflow/Autoencoder.ipynb\" target=\"_parent\"><img src=\"https://colab.research.google.com/assets/colab-badge.svg\" alt=\"Open In Colab\"/></a>"
      ]
    },
    {
      "cell_type": "code",
      "metadata": {
        "id": "pNnKpfbB0uwx",
        "colab_type": "code",
        "colab": {}
      },
      "source": [
        "%tensorflow_version 2.x\n",
        "import tensorflow as tf\n",
        "import tensorflow.keras as keras\n",
        "from tensorflow.keras.layers import Dense\n",
        "import numpy as np"
      ],
      "execution_count": 1,
      "outputs": []
    },
    {
      "cell_type": "code",
      "metadata": {
        "id": "t7if9O5V0_B_",
        "colab_type": "code",
        "colab": {
          "base_uri": "https://localhost:8080/",
          "height": 153
        },
        "outputId": "82304020-9589-43e2-a219-7b18cc42e782"
      },
      "source": [
        "X = np.eye(8).astype(np.float32)\n",
        "X"
      ],
      "execution_count": 2,
      "outputs": [
        {
          "output_type": "execute_result",
          "data": {
            "text/plain": [
              "array([[1., 0., 0., 0., 0., 0., 0., 0.],\n",
              "       [0., 1., 0., 0., 0., 0., 0., 0.],\n",
              "       [0., 0., 1., 0., 0., 0., 0., 0.],\n",
              "       [0., 0., 0., 1., 0., 0., 0., 0.],\n",
              "       [0., 0., 0., 0., 1., 0., 0., 0.],\n",
              "       [0., 0., 0., 0., 0., 1., 0., 0.],\n",
              "       [0., 0., 0., 0., 0., 0., 1., 0.],\n",
              "       [0., 0., 0., 0., 0., 0., 0., 1.]], dtype=float32)"
            ]
          },
          "metadata": {
            "tags": []
          },
          "execution_count": 2
        }
      ]
    },
    {
      "cell_type": "code",
      "metadata": {
        "id": "vF1wG8wX1IXB",
        "colab_type": "code",
        "colab": {}
      },
      "source": [
        "# 8-3-8\n",
        "class AutoEncoder(keras.Model):\n",
        "  def __init__(self):\n",
        "    super().__init__()\n",
        "    self.encoder = Dense(3, activation='sigmoid')\n",
        "    self.decoder = Dense(8, activation='sigmoid')\n",
        "  def call(self, inp):\n",
        "    outputs = self.decoder(self.encoder(inp))\n",
        "    return outputs"
      ],
      "execution_count": 5,
      "outputs": []
    },
    {
      "cell_type": "code",
      "metadata": {
        "id": "xfr5xI2q37I8",
        "colab_type": "code",
        "colab": {}
      },
      "source": [
        "model = AutoEncoder()\n",
        "model.compile(loss=keras.losses.MeanSquaredError(), optimizer=keras.optimizers.SGD(learning_rate=3.5))"
      ],
      "execution_count": 6,
      "outputs": []
    },
    {
      "cell_type": "code",
      "metadata": {
        "id": "7HqNLfip4LWB",
        "colab_type": "code",
        "colab": {
          "base_uri": "https://localhost:8080/",
          "height": 34
        },
        "outputId": "5978ee87-b072-4213-9c20-b384e3f9361e"
      },
      "source": [
        "model.fit(X, X, epochs=2000, verbose=0)"
      ],
      "execution_count": 7,
      "outputs": [
        {
          "output_type": "execute_result",
          "data": {
            "text/plain": [
              "<tensorflow.python.keras.callbacks.History at 0x7f520043d160>"
            ]
          },
          "metadata": {
            "tags": []
          },
          "execution_count": 7
        }
      ]
    },
    {
      "cell_type": "code",
      "metadata": {
        "id": "7Fs2Wa1b49qm",
        "colab_type": "code",
        "colab": {
          "base_uri": "https://localhost:8080/",
          "height": 170
        },
        "outputId": "13360e38-751f-4bbd-d7c9-7aea6c8db300"
      },
      "source": [
        "Z = tf.round(model(X))\n",
        "Z"
      ],
      "execution_count": 8,
      "outputs": [
        {
          "output_type": "execute_result",
          "data": {
            "text/plain": [
              "<tf.Tensor: shape=(8, 8), dtype=float32, numpy=\n",
              "array([[1., 0., 0., 0., 0., 0., 0., 0.],\n",
              "       [0., 1., 0., 0., 0., 0., 0., 0.],\n",
              "       [0., 0., 1., 0., 0., 0., 0., 0.],\n",
              "       [0., 0., 0., 1., 0., 0., 0., 0.],\n",
              "       [0., 0., 0., 0., 1., 0., 0., 0.],\n",
              "       [0., 0., 0., 0., 0., 1., 0., 0.],\n",
              "       [0., 0., 0., 0., 0., 0., 1., 0.],\n",
              "       [0., 0., 0., 0., 0., 0., 0., 1.]], dtype=float32)>"
            ]
          },
          "metadata": {
            "tags": []
          },
          "execution_count": 8
        }
      ]
    },
    {
      "cell_type": "code",
      "metadata": {
        "id": "XOYmxDf25usW",
        "colab_type": "code",
        "colab": {
          "base_uri": "https://localhost:8080/",
          "height": 170
        },
        "outputId": "5f038849-fb9d-4598-9c01-da67bcd10a06"
      },
      "source": [
        "tf.round(model.encoder(X))"
      ],
      "execution_count": 11,
      "outputs": [
        {
          "output_type": "execute_result",
          "data": {
            "text/plain": [
              "<tf.Tensor: shape=(8, 3), dtype=float32, numpy=\n",
              "array([[1., 0., 0.],\n",
              "       [0., 1., 0.],\n",
              "       [1., 1., 1.],\n",
              "       [0., 1., 1.],\n",
              "       [0., 0., 0.],\n",
              "       [1., 1., 0.],\n",
              "       [1., 0., 1.],\n",
              "       [0., 0., 1.]], dtype=float32)>"
            ]
          },
          "metadata": {
            "tags": []
          },
          "execution_count": 11
        }
      ]
    },
    {
      "cell_type": "code",
      "metadata": {
        "id": "QryABAgU_-zZ",
        "colab_type": "code",
        "colab": {}
      },
      "source": [
        "X_encoded = np.array([[0, 0, 0],\n",
        "                      [0, 0, 1],\n",
        "                      [1, 0, 0],\n",
        "                      [1, 1, 0]],dtype='float32')"
      ],
      "execution_count": 12,
      "outputs": []
    },
    {
      "cell_type": "code",
      "metadata": {
        "id": "eHu5Qxs2BzOe",
        "colab_type": "code",
        "colab": {
          "base_uri": "https://localhost:8080/",
          "height": 102
        },
        "outputId": "184cb8a7-0ea7-46bb-8ad1-399da2499863"
      },
      "source": [
        "tf.round(model.decoder(X_encoded))"
      ],
      "execution_count": 13,
      "outputs": [
        {
          "output_type": "execute_result",
          "data": {
            "text/plain": [
              "<tf.Tensor: shape=(4, 8), dtype=float32, numpy=\n",
              "array([[0., 0., 0., 0., 1., 0., 0., 0.],\n",
              "       [0., 0., 0., 0., 0., 0., 0., 1.],\n",
              "       [1., 0., 0., 0., 0., 0., 0., 0.],\n",
              "       [0., 0., 0., 0., 0., 1., 0., 0.]], dtype=float32)>"
            ]
          },
          "metadata": {
            "tags": []
          },
          "execution_count": 13
        }
      ]
    },
    {
      "cell_type": "markdown",
      "metadata": {
        "id": "xF9b_BSHCdUk",
        "colab_type": "text"
      },
      "source": [
        "**Feature extraction**"
      ]
    },
    {
      "cell_type": "code",
      "metadata": {
        "id": "aBXtixqaB3x1",
        "colab_type": "code",
        "colab": {}
      },
      "source": [
        "from tensorflow.keras import Model, Input, losses, optimizers, datasets\n",
        "from tensorflow.keras.layers import Flatten\n",
        "import matplotlib.pyplot as plt"
      ],
      "execution_count": 18,
      "outputs": []
    },
    {
      "cell_type": "code",
      "metadata": {
        "id": "kjNQhGROCvNh",
        "colab_type": "code",
        "colab": {
          "base_uri": "https://localhost:8080/",
          "height": 51
        },
        "outputId": "eeeac292-3411-4528-f99b-4c56fb715ed7"
      },
      "source": [
        "(X_train, Y_train), (X_test, Y_test) = datasets.mnist.load_data()\n",
        "X_train, X_test = X_train / 255.0, X_test / 255.0\n",
        "print(X_train.shape)\n",
        "print(Y_train.shape)"
      ],
      "execution_count": 22,
      "outputs": [
        {
          "output_type": "stream",
          "text": [
            "(60000, 28, 28)\n",
            "(60000,)\n"
          ],
          "name": "stdout"
        }
      ]
    },
    {
      "cell_type": "code",
      "metadata": {
        "id": "dSpA7rZ7DHk7",
        "colab_type": "code",
        "colab": {
          "base_uri": "https://localhost:8080/",
          "height": 265
        },
        "outputId": "571db832-00d2-4082-b89c-e2987f2057de"
      },
      "source": [
        "plt.imshow(X_train[0])\n",
        "plt.show()"
      ],
      "execution_count": 23,
      "outputs": [
        {
          "output_type": "display_data",
          "data": {
            "image/png": "[encoded data removed]",
            "text/plain": [
              "<Figure size 432x288 with 1 Axes>"
            ]
          },
          "metadata": {
            "tags": [],
            "needs_background": "light"
          }
        }
      ]
    },
    {
      "cell_type": "code",
      "metadata": {
        "id": "M4JIatvDG5jY",
        "colab_type": "code",
        "colab": {}
      },
      "source": [
        "# 28*28--784-392-196-98-196-392-784\n",
        "inputs = Input(shape=(X_train.shape[1], X_train.shape[2]))\n",
        "flat = Flatten()\n",
        "\n",
        "en1 = Dense(size//2, activation='relu')\n",
        "en2 = Dense(size//4, activation='relu')\n",
        "en3 = Dense(size//8, activation='relu')\n",
        "\n",
        "de1 = Dense(size//4, activation='relu')\n",
        "de2 = Dense(size//2, activation='relu')\n",
        "de3 = Dense(size, activation='relu')\n",
        "\n",
        "outputs = de3(de2(de1(en3(en2(en1(flat(inputs)))))))\n",
        "outputs = tf.reshape(outputs, [-1,X_train.shape[1], X_train.shape[2]])\n",
        "\n",
        "model = Model(inputs, outputs)"
      ],
      "execution_count": 29,
      "outputs": []
    },
    {
      "cell_type": "code",
      "metadata": {
        "id": "lfxhQrQFMfhG",
        "colab_type": "code",
        "colab": {}
      },
      "source": [
        "model.compile(loss=losses.MeanSquaredError(), optimizer=optimizers.SGD(learning_rate=0.1))"
      ],
      "execution_count": 30,
      "outputs": []
    },
    {
      "cell_type": "code",
      "metadata": {
        "id": "_cISWmtIMso1",
        "colab_type": "code",
        "colab": {
          "base_uri": "https://localhost:8080/",
          "height": 459
        },
        "outputId": "c39f8765-88b5-415d-a917-fd9c92d4caec"
      },
      "source": [
        "model.summary()"
      ],
      "execution_count": 31,
      "outputs": [
        {
          "output_type": "stream",
          "text": [
            "Model: \"model_1\"\n",
            "_________________________________________________________________\n",
            "Layer (type)                 Output Shape              Param #   \n",
            "=================================================================\n",
            "input_4 (InputLayer)         [(None, 28, 28)]          0         \n",
            "_________________________________________________________________\n",
            "flatten_3 (Flatten)          (None, 784)               0         \n",
            "_________________________________________________________________\n",
            "dense_8 (Dense)              (None, 392)               307720    \n",
            "_________________________________________________________________\n",
            "dense_9 (Dense)              (None, 196)               77028     \n",
            "_________________________________________________________________\n",
            "dense_10 (Dense)             (None, 98)                19306     \n",
            "_________________________________________________________________\n",
            "dense_11 (Dense)             (None, 196)               19404     \n",
            "_________________________________________________________________\n",
            "dense_12 (Dense)             (None, 392)               77224     \n",
            "_________________________________________________________________\n",
            "dense_13 (Dense)             (None, 784)               308112    \n",
            "_________________________________________________________________\n",
            "tf_op_layer_Reshape_1 (Tenso [(None, 28, 28)]          0         \n",
            "=================================================================\n",
            "Total params: 808,794\n",
            "Trainable params: 808,794\n",
            "Non-trainable params: 0\n",
            "_________________________________________________________________\n"
          ],
          "name": "stdout"
        }
      ]
    },
    {
      "cell_type": "code",
      "metadata": {
        "id": "rLDyDMH2M78z",
        "colab_type": "code",
        "colab": {
          "base_uri": "https://localhost:8080/",
          "height": 1000
        },
        "outputId": "80c801f8-c934-45a8-a4bd-abdb6108f1ed"
      },
      "source": [
        "model.fit(X_train, X_train, epochs=200, verbose=0)"
      ],
      "execution_count": 32,
      "outputs": [
        {
          "output_type": "stream",
          "text": [
            "Epoch 1/200\n",
            "1875/1875 [==============================] - 3s 2ms/step - loss: 0.0813\n",
            "Epoch 2/200\n",
            "1875/1875 [==============================] - 3s 2ms/step - loss: 0.0702\n",
            "Epoch 3/200\n",
            "1875/1875 [==============================] - 3s 2ms/step - loss: 0.0590\n",
            "Epoch 4/200\n",
            "1875/1875 [==============================] - 3s 2ms/step - loss: 0.0517\n",
            "Epoch 5/200\n",
            "1875/1875 [==============================] - 3s 2ms/step - loss: 0.0470\n",
            "Epoch 6/200\n",
            "1875/1875 [==============================] - 3s 2ms/step - loss: 0.0440\n",
            "Epoch 7/200\n",
            "1875/1875 [==============================] - 3s 2ms/step - loss: 0.0417\n",
            "Epoch 8/200\n",
            "1875/1875 [==============================] - 3s 2ms/step - loss: 0.0395\n",
            "Epoch 9/200\n",
            "1875/1875 [==============================] - 3s 2ms/step - loss: 0.0378\n",
            "Epoch 10/200\n",
            "1875/1875 [==============================] - 3s 2ms/step - loss: 0.0365\n",
            "Epoch 11/200\n",
            "1875/1875 [==============================] - 3s 2ms/step - loss: 0.0353\n",
            "Epoch 12/200\n",
            "1875/1875 [==============================] - 3s 2ms/step - loss: 0.0340\n",
            "Epoch 13/200\n",
            "1875/1875 [==============================] - 3s 2ms/step - loss: 0.0333\n",
            "Epoch 14/200\n",
            "1875/1875 [==============================] - 3s 2ms/step - loss: 0.0327\n",
            "Epoch 15/200\n",
            "1875/1875 [==============================] - 3s 2ms/step - loss: 0.0322\n",
            "Epoch 16/200\n",
            "1875/1875 [==============================] - 3s 2ms/step - loss: 0.0318\n",
            "Epoch 17/200\n",
            "1875/1875 [==============================] - 3s 2ms/step - loss: 0.0314\n",
            "Epoch 18/200\n",
            "1875/1875 [==============================] - 3s 2ms/step - loss: 0.0310\n",
            "Epoch 19/200\n",
            "1875/1875 [==============================] - 3s 2ms/step - loss: 0.0307\n",
            "Epoch 20/200\n",
            "1875/1875 [==============================] - 3s 2ms/step - loss: 0.0304\n",
            "Epoch 21/200\n",
            "1875/1875 [==============================] - 3s 2ms/step - loss: 0.0301\n",
            "Epoch 22/200\n",
            "1875/1875 [==============================] - 3s 2ms/step - loss: 0.0291\n",
            "Epoch 23/200\n",
            "1875/1875 [==============================] - 3s 2ms/step - loss: 0.0284\n",
            "Epoch 24/200\n",
            "1875/1875 [==============================] - 3s 2ms/step - loss: 0.0280\n",
            "Epoch 25/200\n",
            "1875/1875 [==============================] - 3s 2ms/step - loss: 0.0274\n",
            "Epoch 26/200\n",
            "1875/1875 [==============================] - 3s 2ms/step - loss: 0.0270\n",
            "Epoch 27/200\n",
            "1875/1875 [==============================] - 3s 2ms/step - loss: 0.0267\n",
            "Epoch 28/200\n",
            "1875/1875 [==============================] - 3s 2ms/step - loss: 0.0265\n",
            "Epoch 29/200\n",
            "1875/1875 [==============================] - 3s 2ms/step - loss: 0.0263\n",
            "Epoch 30/200\n",
            "1875/1875 [==============================] - 3s 2ms/step - loss: 0.0261\n",
            "Epoch 31/200\n",
            "1875/1875 [==============================] - 3s 2ms/step - loss: 0.0259\n",
            "Epoch 32/200\n",
            "1875/1875 [==============================] - 3s 2ms/step - loss: 0.0258\n",
            "Epoch 33/200\n",
            "1875/1875 [==============================] - 3s 2ms/step - loss: 0.0256\n",
            "Epoch 34/200\n",
            "1875/1875 [==============================] - 3s 2ms/step - loss: 0.0254\n",
            "Epoch 35/200\n",
            "1875/1875 [==============================] - 3s 2ms/step - loss: 0.0253\n",
            "Epoch 36/200\n",
            "1875/1875 [==============================] - 3s 2ms/step - loss: 0.0252\n",
            "Epoch 37/200\n",
            "1875/1875 [==============================] - 3s 2ms/step - loss: 0.0250\n",
            "Epoch 38/200\n",
            "1875/1875 [==============================] - 3s 2ms/step - loss: 0.0249\n",
            "Epoch 39/200\n",
            "1875/1875 [==============================] - 3s 2ms/step - loss: 0.0246\n",
            "Epoch 40/200\n",
            "1875/1875 [==============================] - 3s 2ms/step - loss: 0.0244\n",
            "Epoch 41/200\n",
            "1875/1875 [==============================] - 3s 2ms/step - loss: 0.0243\n",
            "Epoch 42/200\n",
            "1875/1875 [==============================] - 3s 2ms/step - loss: 0.0242\n",
            "Epoch 43/200\n",
            "1875/1875 [==============================] - 3s 2ms/step - loss: 0.0241\n",
            "Epoch 44/200\n",
            "1875/1875 [==============================] - 3s 2ms/step - loss: 0.0240\n",
            "Epoch 45/200\n",
            "1875/1875 [==============================] - 3s 2ms/step - loss: 0.0239\n",
            "Epoch 46/200\n",
            "1875/1875 [==============================] - 3s 2ms/step - loss: 0.0239\n",
            "Epoch 47/200\n",
            "1875/1875 [==============================] - 3s 2ms/step - loss: 0.0238\n",
            "Epoch 48/200\n",
            "1875/1875 [==============================] - 3s 2ms/step - loss: 0.0237\n",
            "Epoch 49/200\n",
            "1875/1875 [==============================] - 3s 2ms/step - loss: 0.0237\n",
            "Epoch 50/200\n",
            "1875/1875 [==============================] - 3s 2ms/step - loss: 0.0236\n",
            "Epoch 51/200\n",
            "1875/1875 [==============================] - 3s 2ms/step - loss: 0.0235\n",
            "Epoch 52/200\n",
            "1875/1875 [==============================] - 3s 2ms/step - loss: 0.0235\n",
            "Epoch 53/200\n",
            "1875/1875 [==============================] - 3s 2ms/step - loss: 0.0234\n",
            "Epoch 54/200\n",
            "1875/1875 [==============================] - 3s 2ms/step - loss: 0.0234\n",
            "Epoch 55/200\n",
            "1875/1875 [==============================] - 3s 2ms/step - loss: 0.0233\n",
            "Epoch 56/200\n",
            "1875/1875 [==============================] - 3s 2ms/step - loss: 0.0233\n",
            "Epoch 57/200\n",
            "1875/1875 [==============================] - 3s 2ms/step - loss: 0.0230\n",
            "Epoch 58/200\n",
            "1875/1875 [==============================] - 3s 2ms/step - loss: 0.0228\n",
            "Epoch 59/200\n",
            "1875/1875 [==============================] - 3s 2ms/step - loss: 0.0228\n",
            "Epoch 60/200\n",
            "1875/1875 [==============================] - 3s 2ms/step - loss: 0.0227\n",
            "Epoch 61/200\n",
            "1875/1875 [==============================] - 3s 2ms/step - loss: 0.0227\n",
            "Epoch 62/200\n",
            "1875/1875 [==============================] - 3s 2ms/step - loss: 0.0226\n",
            "Epoch 63/200\n",
            "1875/1875 [==============================] - 3s 2ms/step - loss: 0.0226\n",
            "Epoch 64/200\n",
            "1875/1875 [==============================] - 3s 2ms/step - loss: 0.0225\n",
            "Epoch 65/200\n",
            "1875/1875 [==============================] - 3s 2ms/step - loss: 0.0225\n",
            "Epoch 66/200\n",
            "1875/1875 [==============================] - 3s 2ms/step - loss: 0.0225\n",
            "Epoch 67/200\n",
            "1875/1875 [==============================] - 3s 2ms/step - loss: 0.0224\n",
            "Epoch 68/200\n",
            "1875/1875 [==============================] - 3s 2ms/step - loss: 0.0224\n",
            "Epoch 69/200\n",
            "1875/1875 [==============================] - 3s 2ms/step - loss: 0.0223\n",
            "Epoch 70/200\n",
            "1875/1875 [==============================] - 3s 2ms/step - loss: 0.0223\n",
            "Epoch 71/200\n",
            "1875/1875 [==============================] - 3s 2ms/step - loss: 0.0222\n",
            "Epoch 72/200\n",
            "1875/1875 [==============================] - 3s 2ms/step - loss: 0.0222\n",
            "Epoch 73/200\n",
            "1875/1875 [==============================] - 3s 2ms/step - loss: 0.0222\n",
            "Epoch 74/200\n",
            "1875/1875 [==============================] - 3s 2ms/step - loss: 0.0220\n",
            "Epoch 75/200\n",
            "1875/1875 [==============================] - 3s 2ms/step - loss: 0.0217\n",
            "Epoch 76/200\n",
            "1875/1875 [==============================] - 3s 2ms/step - loss: 0.0217\n",
            "Epoch 77/200\n",
            "1875/1875 [==============================] - 3s 2ms/step - loss: 0.0216\n",
            "Epoch 78/200\n",
            "1875/1875 [==============================] - 3s 2ms/step - loss: 0.0216\n",
            "Epoch 79/200\n",
            "1875/1875 [==============================] - 3s 2ms/step - loss: 0.0216\n",
            "Epoch 80/200\n",
            "1875/1875 [==============================] - 3s 2ms/step - loss: 0.0215\n",
            "Epoch 81/200\n",
            "1875/1875 [==============================] - 3s 2ms/step - loss: 0.0214\n",
            "Epoch 82/200\n",
            "1875/1875 [==============================] - 3s 2ms/step - loss: 0.0213\n",
            "Epoch 83/200\n",
            "1875/1875 [==============================] - 3s 2ms/step - loss: 0.0213\n",
            "Epoch 84/200\n",
            "1875/1875 [==============================] - 3s 2ms/step - loss: 0.0212\n",
            "Epoch 85/200\n",
            "1875/1875 [==============================] - 3s 2ms/step - loss: 0.0210\n",
            "Epoch 86/200\n",
            "1875/1875 [==============================] - 3s 2ms/step - loss: 0.0207\n",
            "Epoch 87/200\n",
            "1875/1875 [==============================] - 3s 2ms/step - loss: 0.0207\n",
            "Epoch 88/200\n",
            "1875/1875 [==============================] - 3s 2ms/step - loss: 0.0206\n",
            "Epoch 89/200\n",
            "1875/1875 [==============================] - 3s 2ms/step - loss: 0.0206\n",
            "Epoch 90/200\n",
            "1875/1875 [==============================] - 3s 2ms/step - loss: 0.0206\n",
            "Epoch 91/200\n",
            "1875/1875 [==============================] - 3s 2ms/step - loss: 0.0205\n",
            "Epoch 92/200\n",
            "1875/1875 [==============================] - 3s 2ms/step - loss: 0.0205\n",
            "Epoch 93/200\n",
            "1875/1875 [==============================] - 3s 2ms/step - loss: 0.0205\n",
            "Epoch 94/200\n",
            "1875/1875 [==============================] - 3s 2ms/step - loss: 0.0204\n",
            "Epoch 95/200\n",
            "1875/1875 [==============================] - 3s 2ms/step - loss: 0.0204\n",
            "Epoch 96/200\n",
            "1875/1875 [==============================] - 3s 2ms/step - loss: 0.0204\n",
            "Epoch 97/200\n",
            "1875/1875 [==============================] - 3s 2ms/step - loss: 0.0204\n",
            "Epoch 98/200\n",
            "1875/1875 [==============================] - 3s 2ms/step - loss: 0.0203\n",
            "Epoch 99/200\n",
            "1875/1875 [==============================] - 3s 2ms/step - loss: 0.0203\n",
            "Epoch 100/200\n",
            "1875/1875 [==============================] - 3s 2ms/step - loss: 0.0203\n",
            "Epoch 101/200\n",
            "1875/1875 [==============================] - 3s 2ms/step - loss: 0.0203\n",
            "Epoch 102/200\n",
            "1875/1875 [==============================] - 3s 2ms/step - loss: 0.0202\n",
            "Epoch 103/200\n",
            "1875/1875 [==============================] - 3s 2ms/step - loss: 0.0202\n",
            "Epoch 104/200\n",
            "1875/1875 [==============================] - 3s 2ms/step - loss: 0.0201\n",
            "Epoch 105/200\n",
            "1875/1875 [==============================] - 3s 2ms/step - loss: 0.0200\n",
            "Epoch 106/200\n",
            "1875/1875 [==============================] - 3s 2ms/step - loss: 0.0200\n",
            "Epoch 107/200\n",
            "1875/1875 [==============================] - 3s 2ms/step - loss: 0.0200\n",
            "Epoch 108/200\n",
            "1875/1875 [==============================] - 3s 2ms/step - loss: 0.0199\n",
            "Epoch 109/200\n",
            "1875/1875 [==============================] - 3s 2ms/step - loss: 0.0199\n",
            "Epoch 110/200\n",
            "1875/1875 [==============================] - 3s 2ms/step - loss: 0.0199\n",
            "Epoch 111/200\n",
            "1875/1875 [==============================] - 3s 2ms/step - loss: 0.0199\n",
            "Epoch 112/200\n",
            "1875/1875 [==============================] - 3s 2ms/step - loss: 0.0197\n",
            "Epoch 113/200\n",
            "1875/1875 [==============================] - 3s 2ms/step - loss: 0.0194\n",
            "Epoch 114/200\n",
            "1875/1875 [==============================] - 3s 2ms/step - loss: 0.0193\n",
            "Epoch 115/200\n",
            "1875/1875 [==============================] - 3s 2ms/step - loss: 0.0193\n",
            "Epoch 116/200\n",
            "1875/1875 [==============================] - 3s 2ms/step - loss: 0.0189\n",
            "Epoch 117/200\n",
            "1875/1875 [==============================] - 3s 2ms/step - loss: 0.0188\n",
            "Epoch 118/200\n",
            "1875/1875 [==============================] - 3s 2ms/step - loss: 0.0188\n",
            "Epoch 119/200\n",
            "1875/1875 [==============================] - 3s 2ms/step - loss: 0.0187\n",
            "Epoch 120/200\n",
            "1875/1875 [==============================] - 3s 2ms/step - loss: 0.0187\n",
            "Epoch 121/200\n",
            "1875/1875 [==============================] - 3s 2ms/step - loss: 0.0187\n",
            "Epoch 122/200\n",
            "1875/1875 [==============================] - 3s 2ms/step - loss: 0.0187\n",
            "Epoch 123/200\n",
            "1875/1875 [==============================] - 3s 2ms/step - loss: 0.0186\n",
            "Epoch 124/200\n",
            "1875/1875 [==============================] - 3s 2ms/step - loss: 0.0186\n",
            "Epoch 125/200\n",
            "1875/1875 [==============================] - 3s 2ms/step - loss: 0.0186\n",
            "Epoch 126/200\n",
            "1875/1875 [==============================] - 3s 2ms/step - loss: 0.0186\n",
            "Epoch 127/200\n",
            "1875/1875 [==============================] - 3s 2ms/step - loss: 0.0186\n",
            "Epoch 128/200\n",
            "1875/1875 [==============================] - 3s 2ms/step - loss: 0.0186\n",
            "Epoch 129/200\n",
            "1875/1875 [==============================] - 3s 2ms/step - loss: 0.0185\n",
            "Epoch 130/200\n",
            "1875/1875 [==============================] - 3s 2ms/step - loss: 0.0185\n",
            "Epoch 131/200\n",
            "1875/1875 [==============================] - 3s 2ms/step - loss: 0.0185\n",
            "Epoch 132/200\n",
            "1875/1875 [==============================] - 3s 2ms/step - loss: 0.0185\n",
            "Epoch 133/200\n",
            "1875/1875 [==============================] - 3s 2ms/step - loss: 0.0185\n",
            "Epoch 134/200\n",
            "1875/1875 [==============================] - 3s 2ms/step - loss: 0.0184\n",
            "Epoch 135/200\n",
            "1875/1875 [==============================] - 3s 2ms/step - loss: 0.0184\n",
            "Epoch 136/200\n",
            "1875/1875 [==============================] - 3s 2ms/step - loss: 0.0184\n",
            "Epoch 137/200\n",
            "1875/1875 [==============================] - 3s 2ms/step - loss: 0.0184\n",
            "Epoch 138/200\n",
            "1875/1875 [==============================] - 3s 2ms/step - loss: 0.0184\n",
            "Epoch 139/200\n",
            "1875/1875 [==============================] - 3s 2ms/step - loss: 0.0184\n",
            "Epoch 140/200\n",
            "1875/1875 [==============================] - 3s 2ms/step - loss: 0.0184\n",
            "Epoch 141/200\n",
            "1875/1875 [==============================] - 3s 2ms/step - loss: 0.0183\n",
            "Epoch 142/200\n",
            "1875/1875 [==============================] - 3s 2ms/step - loss: 0.0183\n",
            "Epoch 143/200\n",
            "1875/1875 [==============================] - 3s 2ms/step - loss: 0.0183\n",
            "Epoch 144/200\n",
            "1875/1875 [==============================] - 3s 2ms/step - loss: 0.0183\n",
            "Epoch 145/200\n",
            "1875/1875 [==============================] - 3s 2ms/step - loss: 0.0183\n",
            "Epoch 146/200\n",
            "1875/1875 [==============================] - 3s 2ms/step - loss: 0.0183\n",
            "Epoch 147/200\n",
            "1875/1875 [==============================] - 3s 2ms/step - loss: 0.0183\n",
            "Epoch 148/200\n",
            "1875/1875 [==============================] - 3s 2ms/step - loss: 0.0183\n",
            "Epoch 149/200\n",
            "1875/1875 [==============================] - 3s 2ms/step - loss: 0.0183\n",
            "Epoch 150/200\n",
            "1875/1875 [==============================] - 3s 2ms/step - loss: 0.0182\n",
            "Epoch 151/200\n",
            "1875/1875 [==============================] - 3s 2ms/step - loss: 0.0182\n",
            "Epoch 152/200\n",
            "1875/1875 [==============================] - 3s 2ms/step - loss: 0.0182\n",
            "Epoch 153/200\n",
            "1875/1875 [==============================] - 3s 2ms/step - loss: 0.0182\n",
            "Epoch 154/200\n",
            "1875/1875 [==============================] - 3s 2ms/step - loss: 0.0182\n",
            "Epoch 155/200\n",
            "1875/1875 [==============================] - 3s 2ms/step - loss: 0.0182\n",
            "Epoch 156/200\n",
            "1875/1875 [==============================] - 3s 2ms/step - loss: 0.0182\n",
            "Epoch 157/200\n",
            "1875/1875 [==============================] - 3s 2ms/step - loss: 0.0182\n",
            "Epoch 158/200\n",
            "1875/1875 [==============================] - 3s 2ms/step - loss: 0.0182\n",
            "Epoch 159/200\n",
            "1875/1875 [==============================] - 3s 2ms/step - loss: 0.0182\n",
            "Epoch 160/200\n",
            "1875/1875 [==============================] - 3s 2ms/step - loss: 0.0181\n",
            "Epoch 161/200\n",
            "1875/1875 [==============================] - 3s 2ms/step - loss: 0.0181\n",
            "Epoch 162/200\n",
            "1875/1875 [==============================] - 3s 2ms/step - loss: 0.0181\n",
            "Epoch 163/200\n",
            "1875/1875 [==============================] - 3s 2ms/step - loss: 0.0181\n",
            "Epoch 164/200\n",
            "1875/1875 [==============================] - 3s 2ms/step - loss: 0.0181\n",
            "Epoch 165/200\n",
            "1875/1875 [==============================] - 3s 2ms/step - loss: 0.0181\n",
            "Epoch 166/200\n",
            "1875/1875 [==============================] - 3s 2ms/step - loss: 0.0181\n",
            "Epoch 167/200\n",
            "1875/1875 [==============================] - 3s 2ms/step - loss: 0.0181\n",
            "Epoch 168/200\n",
            "1875/1875 [==============================] - 3s 2ms/step - loss: 0.0181\n",
            "Epoch 169/200\n",
            "1875/1875 [==============================] - 3s 2ms/step - loss: 0.0181\n",
            "Epoch 170/200\n",
            "1875/1875 [==============================] - 3s 2ms/step - loss: 0.0180\n",
            "Epoch 171/200\n",
            "1875/1875 [==============================] - 3s 2ms/step - loss: 0.0178\n",
            "Epoch 172/200\n",
            "1875/1875 [==============================] - 3s 2ms/step - loss: 0.0177\n",
            "Epoch 173/200\n",
            "1875/1875 [==============================] - 3s 2ms/step - loss: 0.0177\n",
            "Epoch 174/200\n",
            "1875/1875 [==============================] - 3s 2ms/step - loss: 0.0177\n",
            "Epoch 175/200\n",
            "1875/1875 [==============================] - 3s 2ms/step - loss: 0.0177\n",
            "Epoch 176/200\n",
            "1875/1875 [==============================] - 3s 2ms/step - loss: 0.0176\n",
            "Epoch 177/200\n",
            "1875/1875 [==============================] - 3s 2ms/step - loss: 0.0176\n",
            "Epoch 178/200\n",
            "1875/1875 [==============================] - 3s 2ms/step - loss: 0.0176\n",
            "Epoch 179/200\n",
            "1875/1875 [==============================] - 3s 2ms/step - loss: 0.0176\n",
            "Epoch 180/200\n",
            "1875/1875 [==============================] - 3s 2ms/step - loss: 0.0176\n",
            "Epoch 181/200\n",
            "1875/1875 [==============================] - 3s 2ms/step - loss: 0.0176\n",
            "Epoch 182/200\n",
            "1875/1875 [==============================] - 3s 2ms/step - loss: 0.0176\n",
            "Epoch 183/200\n",
            "1875/1875 [==============================] - 3s 2ms/step - loss: 0.0176\n",
            "Epoch 184/200\n",
            "1875/1875 [==============================] - 3s 2ms/step - loss: 0.0176\n",
            "Epoch 185/200\n",
            "1875/1875 [==============================] - 3s 2ms/step - loss: 0.0176\n",
            "Epoch 186/200\n",
            "1875/1875 [==============================] - 3s 2ms/step - loss: 0.0176\n",
            "Epoch 187/200\n",
            "1875/1875 [==============================] - 3s 2ms/step - loss: 0.0176\n",
            "Epoch 188/200\n",
            "1875/1875 [==============================] - 3s 2ms/step - loss: 0.0175\n",
            "Epoch 189/200\n",
            "1875/1875 [==============================] - 3s 2ms/step - loss: 0.0175\n",
            "Epoch 190/200\n",
            "1875/1875 [==============================] - 3s 2ms/step - loss: 0.0175\n",
            "Epoch 191/200\n",
            "1875/1875 [==============================] - 3s 2ms/step - loss: 0.0175\n",
            "Epoch 192/200\n",
            "1875/1875 [==============================] - 3s 2ms/step - loss: 0.0175\n",
            "Epoch 193/200\n",
            "1875/1875 [==============================] - 3s 2ms/step - loss: 0.0175\n",
            "Epoch 194/200\n",
            "1875/1875 [==============================] - 3s 2ms/step - loss: 0.0175\n",
            "Epoch 195/200\n",
            "1875/1875 [==============================] - 3s 2ms/step - loss: 0.0175\n",
            "Epoch 196/200\n",
            "1875/1875 [==============================] - 3s 2ms/step - loss: 0.0175\n",
            "Epoch 197/200\n",
            "1875/1875 [==============================] - 3s 2ms/step - loss: 0.0175\n",
            "Epoch 198/200\n",
            "1875/1875 [==============================] - 3s 2ms/step - loss: 0.0175\n",
            "Epoch 199/200\n",
            "1875/1875 [==============================] - 3s 2ms/step - loss: 0.0175\n",
            "Epoch 200/200\n",
            "1875/1875 [==============================] - 3s 2ms/step - loss: 0.0175\n"
          ],
          "name": "stdout"
        },
        {
          "output_type": "execute_result",
          "data": {
            "text/plain": [
              "<tensorflow.python.keras.callbacks.History at 0x7f51a67f9128>"
            ]
          },
          "metadata": {
            "tags": []
          },
          "execution_count": 32
        }
      ]
    },
    {
      "cell_type": "markdown",
      "metadata": {
        "id": "0TBi58aXPmzP",
        "colab_type": "text"
      },
      "source": [
        "**Comparison**"
      ]
    },
    {
      "cell_type": "code",
      "metadata": {
        "id": "m7CKdHODPui_",
        "colab_type": "code",
        "colab": {}
      },
      "source": [
        "from sklearn.svm import SVC\n",
        "from sklearn.metrics import accuracy_score, confusion_matrix"
      ],
      "execution_count": 33,
      "outputs": []
    },
    {
      "cell_type": "markdown",
      "metadata": {
        "id": "gmUSr2l-PrU3",
        "colab_type": "text"
      },
      "source": [
        "Original"
      ]
    },
    {
      "cell_type": "code",
      "metadata": {
        "id": "Bm0i1Ve1P-CQ",
        "colab_type": "code",
        "colab": {}
      },
      "source": [
        "X_train_flat = X_train.reshape((len(X_train), -1))\n",
        "X_test_flat = X_test.reshape((len(X_test), -1))"
      ],
      "execution_count": 36,
      "outputs": []
    },
    {
      "cell_type": "code",
      "metadata": {
        "id": "0Bl_bb0cTPfi",
        "colab_type": "code",
        "colab": {}
      },
      "source": [
        "clf1 = SVC()\n",
        "clf1.fit(X_train_flat, Y_train)"
      ],
      "execution_count": null,
      "outputs": []
    },
    {
      "cell_type": "code",
      "metadata": {
        "id": "eOcGimkAQqs_",
        "colab_type": "code",
        "colab": {
          "base_uri": "https://localhost:8080/",
          "height": 221
        },
        "outputId": "d2c5c7d7-b9b7-40fc-e0a7-15d0f0279451"
      },
      "source": [
        "Z1 = clf1.predict(X_test_flat)\n",
        "print('accuracy rate =', accuracy_score(Y_test, Z1))\n",
        "print('Confusion matrix:')\n",
        "print(confusion_matrix(Y_test, Z1))"
      ],
      "execution_count": 38,
      "outputs": [
        {
          "output_type": "stream",
          "text": [
            "accuracy rate = 0.9792\n",
            "Confusion matrix:\n",
            "[[ 973    0    1    0    0    2    1    1    2    0]\n",
            " [   0 1126    3    1    0    1    1    1    2    0]\n",
            " [   6    1 1006    2    1    0    2    7    6    1]\n",
            " [   0    0    2  995    0    2    0    5    5    1]\n",
            " [   0    0    5    0  961    0    3    0    2   11]\n",
            " [   2    0    0    9    0  871    4    1    4    1]\n",
            " [   6    2    0    0    2    3  944    0    1    0]\n",
            " [   0    6   11    1    1    0    0  996    2   11]\n",
            " [   3    0    2    6    3    2    2    3  950    3]\n",
            " [   3    4    1    7   10    2    1    7    4  970]]\n"
          ],
          "name": "stdout"
        }
      ]
    },
    {
      "cell_type": "markdown",
      "metadata": {
        "id": "IVlC5bd4RVWz",
        "colab_type": "text"
      },
      "source": [
        "Encoded"
      ]
    },
    {
      "cell_type": "code",
      "metadata": {
        "id": "KEMxZOGDRhUf",
        "colab_type": "code",
        "colab": {
          "base_uri": "https://localhost:8080/",
          "height": 173
        },
        "outputId": "df6453d7-357a-47fb-cca9-cdc29d00310b"
      },
      "source": [
        "X_train_encoded = en3(en2(en1(flat(X_train)))).numpy()\n",
        "X_test_encoded = en3(en2(en1(flat(X_test)))).numpy()\n",
        "print(X_train_encoded.shape)\n",
        "print(X_test_encoded.shape)"
      ],
      "execution_count": 39,
      "outputs": [
        {
          "output_type": "stream",
          "text": [
            "WARNING:tensorflow:Layer flatten_3 is casting an input tensor from dtype float64 to the layer's dtype of float32, which is new behavior in TensorFlow 2.  The layer has dtype float32 because it's dtype defaults to floatx.\n",
            "\n",
            "If you intended to run this layer in float32, you can safely ignore this warning. If in doubt, this warning is likely only an issue if you are porting a TensorFlow 1.X model to TensorFlow 2.\n",
            "\n",
            "To change all layers to have dtype float64 by default, call `tf.keras.backend.set_floatx('float64')`. To change just this layer, pass dtype='float64' to the layer constructor. If you are the author of this layer, you can disable autocasting by passing autocast=False to the base Layer constructor.\n",
            "\n",
            "(60000, 98)\n",
            "(10000, 98)\n"
          ],
          "name": "stdout"
        }
      ]
    },
    {
      "cell_type": "code",
      "metadata": {
        "id": "5dXsq5qrRUAd",
        "colab_type": "code",
        "colab": {
          "base_uri": "https://localhost:8080/",
          "height": 221
        },
        "outputId": "29a61cc8-2492-4fb0-c19b-dc3d273df56e"
      },
      "source": [
        "clf2 = SVC()\n",
        "clf2.fit(X_train_encoded, Y_train)\n",
        "Z2 = clf2.predict(X_test_encoded)\n",
        "print('accuracy rate =', accuracy_score(Y_test, Z2))\n",
        "print('Confusion matrix:')\n",
        "print(confusion_matrix(Y_test, Z2))"
      ],
      "execution_count": 40,
      "outputs": [
        {
          "output_type": "stream",
          "text": [
            "accuracy rate = 0.9508\n",
            "Confusion matrix:\n",
            "[[ 970    0    2    2    1    2    1    1    1    0]\n",
            " [   0 1122    2    2    0    1    4    1    3    0]\n",
            " [   9    1  977    7    5    2   13    7   10    1]\n",
            " [   2    1   11  955    0   13    1    9   16    2]\n",
            " [   1    0    7    1  935    0    6    3    3   26]\n",
            " [   8    2    2   28    7  819    8    1   14    3]\n",
            " [   8    3    2    1    4    8  929    0    3    0]\n",
            " [   2   11   18    4    6    1    0  963    6   17]\n",
            " [   4    4    5   15    6   18    9    5  903    5]\n",
            " [   6    4    1   13   27    6    1   10    6  935]]\n"
          ],
          "name": "stdout"
        }
      ]
    },
    {
      "cell_type": "code",
      "metadata": {
        "id": "PMxpKzszUG6U",
        "colab_type": "code",
        "colab": {}
      },
      "source": [
        "model.save_weights('jojo')"
      ],
      "execution_count": 41,
      "outputs": []
    },
    {
      "cell_type": "markdown",
      "metadata": {
        "id": "d9UtSAjhWD-y",
        "colab_type": "text"
      },
      "source": [
        "Reconstruction"
      ]
    },
    {
      "cell_type": "code",
      "metadata": {
        "id": "kE1CEHQwV0eu",
        "colab_type": "code",
        "colab": {
          "base_uri": "https://localhost:8080/",
          "height": 34
        },
        "outputId": "93f34c9a-0249-4792-ff97-f79daf94e7c9"
      },
      "source": [
        "recon = tf.reshape(de3(de2(de1(X_test_encoded))), [-1,X_test.shape[1], X_test.shape[2]]).numpy()\n",
        "recon.shape"
      ],
      "execution_count": 44,
      "outputs": [
        {
          "output_type": "execute_result",
          "data": {
            "text/plain": [
              "(10000, 28, 28)"
            ]
          },
          "metadata": {
            "tags": []
          },
          "execution_count": 44
        }
      ]
    },
    {
      "cell_type": "code",
      "metadata": {
        "id": "NEe_eaohWvX_",
        "colab_type": "code",
        "colab": {
          "base_uri": "https://localhost:8080/",
          "height": 849
        },
        "outputId": "3113fbb3-20ce-49fb-8d8a-e9869b783d25"
      },
      "source": [
        "n = 10\n",
        "plt.figure(figsize=(28,28))\n",
        "for j, i in enumerate(np.random.randint(0, len(recon), n)):\n",
        "  plt.subplot(n//5, 5, j+1)\n",
        "  plt.imshow(recon[i])\n",
        "  plt.title(Y_test[i])\n",
        "  plt.axis('off')\n",
        "plt.tight_layout()\n",
        "plt.show()"
      ],
      "execution_count": 47,
      "outputs": [
        {
          "output_type": "display_data",
          "data": {
            "image/png": "[encoded data removed]",
            "text/plain": [
              "<Figure size 2016x2016 with 10 Axes>"
            ]
          },
          "metadata": {
            "tags": [],
            "needs_background": "light"
          }
        }
      ]
    },
    {
      "cell_type": "code",
      "metadata": {
        "id": "c4FEljo1X4i6",
        "colab_type": "code",
        "colab": {}
      },
      "source": [
        ""
      ],
      "execution_count": null,
      "outputs": []
    }
  ]
}