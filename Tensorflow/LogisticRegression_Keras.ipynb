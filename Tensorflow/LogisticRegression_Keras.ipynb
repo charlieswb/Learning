{
  "nbformat": 4,
  "nbformat_minor": 0,
  "metadata": {
    "colab": {
      "name": "LogisticRegression_Keras.ipynb",
      "provenance": [],
      "authorship_tag": "ABX9TyO60/I9GOx7cJx/4hYGjpHP",
      "include_colab_link": true
    },
    "kernelspec": {
      "name": "python3",
      "display_name": "Python 3"
    },
    "accelerator": "GPU"
  },
  "cells": [
    {
      "cell_type": "markdown",
      "metadata": {
        "id": "view-in-github",
        "colab_type": "text"
      },
      "source": [
        "<a href=\"https://colab.research.google.com/github/charlieswb/Learning/blob/master/Tensorflow/LogisticRegression_Keras.ipynb\" target=\"_parent\"><img src=\"https://colab.research.google.com/assets/colab-badge.svg\" alt=\"Open In Colab\"/></a>"
      ]
    },
    {
      "cell_type": "code",
      "metadata": {
        "id": "vvkRgoZ0jsMR",
        "colab_type": "code",
        "colab": {}
      },
      "source": [
        "%tensorflow_version 2.x\n",
        "import tensorflow as tf\n",
        "import numpy as np\n",
        "import matplotlib.pyplot as plt\n",
        "from tensorflow import keras\n",
        "from tensorflow.keras.layers import Dense"
      ],
      "execution_count": 1,
      "outputs": []
    },
    {
      "cell_type": "code",
      "metadata": {
        "id": "zE6QNIagkS2M",
        "colab_type": "code",
        "colab": {
          "base_uri": "https://localhost:8080/",
          "height": 265
        },
        "outputId": "dedb9675-0964-4791-e818-64b622f5746c"
      },
      "source": [
        "N = 100\n",
        "X = np.random.rand(N, 1)\n",
        "Y = np.sin(2 * np.pi * X) + 0.4 * np.random.rand(N, 1)\n",
        "plt.scatter(X, Y)\n",
        "plt.show()"
      ],
      "execution_count": 2,
      "outputs": [
        {
          "output_type": "display_data",
          "data": {
            "image/png": "[encoded data removed]",
            "text/plain": [
              "<Figure size 432x288 with 1 Axes>"
            ]
          },
          "metadata": {
            "tags": [],
            "needs_background": "light"
          }
        }
      ]
    },
    {
      "cell_type": "markdown",
      "metadata": {
        "id": "DYPhraf4o54w",
        "colab_type": "text"
      },
      "source": [
        "Create Model"
      ]
    },
    {
      "cell_type": "markdown",
      "metadata": {
        "id": "mNiQ7ywLpy4P",
        "colab_type": "text"
      },
      "source": [
        "normal model"
      ]
    },
    {
      "cell_type": "code",
      "metadata": {
        "id": "LBWQTi6vjyva",
        "colab_type": "code",
        "colab": {}
      },
      "source": [
        "# 1--100-100--1\n",
        "inputs = Input(shape=(1,))\n",
        "l1 = Dense(100, activation='relu')\n",
        "l2 = Dense(100, activation='relu')\n",
        "l3 = Dense(1)\n",
        "outputs = l3(l2(l1(inputs)))"
      ],
      "execution_count": null,
      "outputs": []
    },
    {
      "cell_type": "code",
      "metadata": {
        "id": "NEJLiRyVj0PW",
        "colab_type": "code",
        "colab": {}
      },
      "source": [
        "model = keras.Model(inputs, outputs)\n",
        "model.compile(optimizer=keras.optimizers.SGD(learning_rate=0.1), loss=keras.losses.MeanSquaredError())"
      ],
      "execution_count": null,
      "outputs": []
    },
    {
      "cell_type": "markdown",
      "metadata": {
        "id": "1dcuLHHNp12w",
        "colab_type": "text"
      },
      "source": [
        "using subclass"
      ]
    },
    {
      "cell_type": "code",
      "metadata": {
        "id": "QjCtskQXpw1d",
        "colab_type": "code",
        "colab": {}
      },
      "source": [
        "class NLRegressor(keras.Model):\n",
        "  def __init__(self):\n",
        "    super().__init__()\n",
        "    self.l1 = Dense(100, activation='relu')\n",
        "    self.l2 = Dense(100, activation='relu')\n",
        "    self.l3 = Dense(1)\n",
        "  def call(self, inputs):\n",
        "    x = self.l1(inputs)\n",
        "    x = self.l2(x)\n",
        "    x = self.l3(x)\n",
        "    return x"
      ],
      "execution_count": 3,
      "outputs": []
    },
    {
      "cell_type": "code",
      "metadata": {
        "id": "s0JqKlWrq9QR",
        "colab_type": "code",
        "colab": {}
      },
      "source": [
        "model  = NLRegressor()\n",
        "model.compile(optimizer=keras.optimizers.SGD(learning_rate=0.1), loss=keras.losses.MeanSquaredError())"
      ],
      "execution_count": 4,
      "outputs": []
    },
    {
      "cell_type": "markdown",
      "metadata": {
        "id": "oIemOCHWtkx9",
        "colab_type": "text"
      },
      "source": [
        "using sequential"
      ]
    },
    {
      "cell_type": "code",
      "metadata": {
        "id": "e8VErc0sturc",
        "colab_type": "code",
        "colab": {}
      },
      "source": [
        "model = keras.Sequential()\n",
        "model.add(Dense(100, activation='relu')) #l1\n",
        "model.add(Dense(100, activation='relu')) #l2\n",
        "model.add(Dense(1)) #l3\n",
        "model.compile(optimizer=keras.optimizers.SGD(learning_rate=0.1), loss=keras.losses.MeanSquaredError())"
      ],
      "execution_count": null,
      "outputs": []
    },
    {
      "cell_type": "markdown",
      "metadata": {
        "id": "lcKVte5Spi5u",
        "colab_type": "text"
      },
      "source": [
        "Train"
      ]
    },
    {
      "cell_type": "code",
      "metadata": {
        "id": "JRJrOx12j3iz",
        "colab_type": "code",
        "colab": {
          "base_uri": "https://localhost:8080/",
          "height": 34
        },
        "outputId": "bc9b02cd-62fb-42dd-e553-15c551320d6a"
      },
      "source": [
        "model.fit(X, Y, batch_size=32, epochs=500, verbose=0)"
      ],
      "execution_count": 5,
      "outputs": [
        {
          "output_type": "execute_result",
          "data": {
            "text/plain": [
              "<tensorflow.python.keras.callbacks.History at 0x7fc2104b4cf8>"
            ]
          },
          "metadata": {
            "tags": []
          },
          "execution_count": 5
        }
      ]
    },
    {
      "cell_type": "code",
      "metadata": {
        "id": "YeRTW_Zwj5qZ",
        "colab_type": "code",
        "colab": {
          "base_uri": "https://localhost:8080/",
          "height": 265
        },
        "outputId": "3012b44b-3b6b-4f71-8da2-8d5452ecd65e"
      },
      "source": [
        "Z = model.predict(X)\n",
        "plt.plot(X, Y, '.')\n",
        "plt.plot(X, Z, '.r')\n",
        "plt.show()"
      ],
      "execution_count": 6,
      "outputs": [
        {
          "output_type": "display_data",
          "data": {
            "image/png": "[encoded data removed]",
            "text/plain": [
              "<Figure size 432x288 with 1 Axes>"
            ]
          },
          "metadata": {
            "tags": [],
            "needs_background": "light"
          }
        }
      ]
    },
    {
      "cell_type": "markdown",
      "metadata": {
        "id": "scDuyVuXrtrg",
        "colab_type": "text"
      },
      "source": [
        "# **Classification**"
      ]
    },
    {
      "cell_type": "code",
      "metadata": {
        "id": "p0Yqci2Zmafx",
        "colab_type": "code",
        "colab": {}
      },
      "source": [
        "import pandas as pd\n",
        "from sklearn.model_selection import train_test_split"
      ],
      "execution_count": 7,
      "outputs": []
    },
    {
      "cell_type": "code",
      "metadata": {
        "id": "EqhdYwwRnh7p",
        "colab_type": "code",
        "colab": {
          "base_uri": "https://localhost:8080/",
          "height": 419
        },
        "outputId": "51382a54-943a-424c-95ba-c4b9d9fe5ea4"
      },
      "source": [
        "df = pd.read_csv('https://archive.ics.uci.edu/ml/machine-learning-databases/iris/iris.data', header=None)\n",
        "X = df.iloc[:, 0:4].values\n",
        "labels = df.iloc[:, -1]\n",
        "Y = pd.get_dummies(labels).values\n",
        "X_train, X_test, Y_train, Y_test = train_test_split(X, Y, test_size=0.5, random_state=33)\n",
        "df"
      ],
      "execution_count": 8,
      "outputs": [
        {
          "output_type": "execute_result",
          "data": {
            "text/html": [
              "<div>\n",
              "<style scoped>\n",
              "    .dataframe tbody tr th:only-of-type {\n",
              "        vertical-align: middle;\n",
              "    }\n",
              "\n",
              "    .dataframe tbody tr th {\n",
              "        vertical-align: top;\n",
              "    }\n",
              "\n",
              "    .dataframe thead th {\n",
              "        text-align: right;\n",
              "    }\n",
              "</style>\n",
              "<table border=\"1\" class=\"dataframe\">\n",
              "  <thead>\n",
              "    <tr style=\"text-align: right;\">\n",
              "      <th></th>\n",
              "      <th>0</th>\n",
              "      <th>1</th>\n",
              "      <th>2</th>\n",
              "      <th>3</th>\n",
              "      <th>4</th>\n",
              "    </tr>\n",
              "  </thead>\n",
              "  <tbody>\n",
              "    <tr>\n",
              "      <th>0</th>\n",
              "      <td>5.1</td>\n",
              "      <td>3.5</td>\n",
              "      <td>1.4</td>\n",
              "      <td>0.2</td>\n",
              "      <td>Iris-setosa</td>\n",
              "    </tr>\n",
              "    <tr>\n",
              "      <th>1</th>\n",
              "      <td>4.9</td>\n",
              "      <td>3.0</td>\n",
              "      <td>1.4</td>\n",
              "      <td>0.2</td>\n",
              "      <td>Iris-setosa</td>\n",
              "    </tr>\n",
              "    <tr>\n",
              "      <th>2</th>\n",
              "      <td>4.7</td>\n",
              "      <td>3.2</td>\n",
              "      <td>1.3</td>\n",
              "      <td>0.2</td>\n",
              "      <td>Iris-setosa</td>\n",
              "    </tr>\n",
              "    <tr>\n",
              "      <th>3</th>\n",
              "      <td>4.6</td>\n",
              "      <td>3.1</td>\n",
              "      <td>1.5</td>\n",
              "      <td>0.2</td>\n",
              "      <td>Iris-setosa</td>\n",
              "    </tr>\n",
              "    <tr>\n",
              "      <th>4</th>\n",
              "      <td>5.0</td>\n",
              "      <td>3.6</td>\n",
              "      <td>1.4</td>\n",
              "      <td>0.2</td>\n",
              "      <td>Iris-setosa</td>\n",
              "    </tr>\n",
              "    <tr>\n",
              "      <th>...</th>\n",
              "      <td>...</td>\n",
              "      <td>...</td>\n",
              "      <td>...</td>\n",
              "      <td>...</td>\n",
              "      <td>...</td>\n",
              "    </tr>\n",
              "    <tr>\n",
              "      <th>145</th>\n",
              "      <td>6.7</td>\n",
              "      <td>3.0</td>\n",
              "      <td>5.2</td>\n",
              "      <td>2.3</td>\n",
              "      <td>Iris-virginica</td>\n",
              "    </tr>\n",
              "    <tr>\n",
              "      <th>146</th>\n",
              "      <td>6.3</td>\n",
              "      <td>2.5</td>\n",
              "      <td>5.0</td>\n",
              "      <td>1.9</td>\n",
              "      <td>Iris-virginica</td>\n",
              "    </tr>\n",
              "    <tr>\n",
              "      <th>147</th>\n",
              "      <td>6.5</td>\n",
              "      <td>3.0</td>\n",
              "      <td>5.2</td>\n",
              "      <td>2.0</td>\n",
              "      <td>Iris-virginica</td>\n",
              "    </tr>\n",
              "    <tr>\n",
              "      <th>148</th>\n",
              "      <td>6.2</td>\n",
              "      <td>3.4</td>\n",
              "      <td>5.4</td>\n",
              "      <td>2.3</td>\n",
              "      <td>Iris-virginica</td>\n",
              "    </tr>\n",
              "    <tr>\n",
              "      <th>149</th>\n",
              "      <td>5.9</td>\n",
              "      <td>3.0</td>\n",
              "      <td>5.1</td>\n",
              "      <td>1.8</td>\n",
              "      <td>Iris-virginica</td>\n",
              "    </tr>\n",
              "  </tbody>\n",
              "</table>\n",
              "<p>150 rows × 5 columns</p>\n",
              "</div>"
            ],
            "text/plain": [
              "       0    1    2    3               4\n",
              "0    5.1  3.5  1.4  0.2     Iris-setosa\n",
              "1    4.9  3.0  1.4  0.2     Iris-setosa\n",
              "2    4.7  3.2  1.3  0.2     Iris-setosa\n",
              "3    4.6  3.1  1.5  0.2     Iris-setosa\n",
              "4    5.0  3.6  1.4  0.2     Iris-setosa\n",
              "..   ...  ...  ...  ...             ...\n",
              "145  6.7  3.0  5.2  2.3  Iris-virginica\n",
              "146  6.3  2.5  5.0  1.9  Iris-virginica\n",
              "147  6.5  3.0  5.2  2.0  Iris-virginica\n",
              "148  6.2  3.4  5.4  2.3  Iris-virginica\n",
              "149  5.9  3.0  5.1  1.8  Iris-virginica\n",
              "\n",
              "[150 rows x 5 columns]"
            ]
          },
          "metadata": {
            "tags": []
          },
          "execution_count": 8
        }
      ]
    },
    {
      "cell_type": "markdown",
      "metadata": {
        "id": "0lY9Q5Znrcql",
        "colab_type": "text"
      },
      "source": [
        "Normal model"
      ]
    },
    {
      "cell_type": "code",
      "metadata": {
        "id": "H8FhbxHorirN",
        "colab_type": "code",
        "colab": {}
      },
      "source": [
        "# 4--100-100--3\n",
        "inputs = Input(shape=(4,))\n",
        "l1 = Dense(100, activation='relu')\n",
        "l2 = Dense(100, activation='relu')\n",
        "l3 = Dense(3)\n",
        "outputs = l3(l2(l1(inputs)))\n",
        "model = keras.Model(inputs, outputs)\n",
        "model.compile(optimizer=keras.optimizers.SGD(learning_rate=0.1), loss=keras.losses.MeanSquaredError())"
      ],
      "execution_count": null,
      "outputs": []
    },
    {
      "cell_type": "markdown",
      "metadata": {
        "id": "S10WlSJJrqI_",
        "colab_type": "text"
      },
      "source": [
        "using subclass"
      ]
    },
    {
      "cell_type": "code",
      "metadata": {
        "id": "CB_WySYTrz44",
        "colab_type": "code",
        "colab": {}
      },
      "source": [
        "class Classifier(keras.Model):\n",
        "  def __init__(self):\n",
        "    super().__init__()\n",
        "    self.l1 = Dense(100, activation='relu')\n",
        "    self.l2 = Dense(100, activation='relu')\n",
        "    self.l3 = Dense(3)\n",
        "  def call(self, inputs):\n",
        "    x = self.l1(inputs)\n",
        "    x = self.l2(x)\n",
        "    x = self.l3(x)\n",
        "    return x"
      ],
      "execution_count": 9,
      "outputs": []
    },
    {
      "cell_type": "code",
      "metadata": {
        "id": "Idrxv3QOsDwE",
        "colab_type": "code",
        "colab": {}
      },
      "source": [
        "model = Classifier()\n",
        "model.compile(optimizer=keras.optimizers.SGD(learning_rate=0.1), loss=keras.losses.MeanSquaredError())"
      ],
      "execution_count": 10,
      "outputs": []
    },
    {
      "cell_type": "markdown",
      "metadata": {
        "id": "30pfb6Lou5zi",
        "colab_type": "text"
      },
      "source": [
        "using sequential"
      ]
    },
    {
      "cell_type": "code",
      "metadata": {
        "id": "lummWa0ou7L7",
        "colab_type": "code",
        "colab": {}
      },
      "source": [
        "model = keras.Sequential()\n",
        "model.add(Dense(100, activation='relu')) #l1\n",
        "model.add(Dense(100, activation='relu')) #l2\n",
        "model.add(Dense(3)) #l3\n",
        "model.compile(optimizer=keras.optimizers.SGD(learning_rate=0.1), loss=keras.losses.MeanSquaredError())"
      ],
      "execution_count": null,
      "outputs": []
    },
    {
      "cell_type": "markdown",
      "metadata": {
        "id": "u22K87zavG5i",
        "colab_type": "text"
      },
      "source": [
        "train"
      ]
    },
    {
      "cell_type": "code",
      "metadata": {
        "id": "XQmE8lm1pQ59",
        "colab_type": "code",
        "colab": {
          "base_uri": "https://localhost:8080/",
          "height": 34
        },
        "outputId": "f116b45a-c719-4cda-85a8-b0c08bd49867"
      },
      "source": [
        "model.fit(X_train, Y_train, epochs=500, verbose=0)"
      ],
      "execution_count": 11,
      "outputs": [
        {
          "output_type": "execute_result",
          "data": {
            "text/plain": [
              "<tensorflow.python.keras.callbacks.History at 0x7fc1bea179e8>"
            ]
          },
          "metadata": {
            "tags": []
          },
          "execution_count": 11
        }
      ]
    },
    {
      "cell_type": "code",
      "metadata": {
        "id": "2f0QaoDspTPU",
        "colab_type": "code",
        "colab": {
          "base_uri": "https://localhost:8080/",
          "height": 51
        },
        "outputId": "fb426880-e217-46c9-97af-8d1cfdf3130d"
      },
      "source": [
        "print('loss:', model.evaluate(X_test, Y_test))"
      ],
      "execution_count": 12,
      "outputs": [
        {
          "output_type": "stream",
          "text": [
            "3/3 [==============================] - 0s 3ms/step - loss: 0.0398\n",
            "loss: 0.039779193699359894\n"
          ],
          "name": "stdout"
        }
      ]
    },
    {
      "cell_type": "markdown",
      "metadata": {
        "id": "v4tf0TpbsZUS",
        "colab_type": "text"
      },
      "source": [
        "Try KFold"
      ]
    },
    {
      "cell_type": "code",
      "metadata": {
        "id": "EMeQY3O6p2MX",
        "colab_type": "code",
        "colab": {
          "base_uri": "https://localhost:8080/",
          "height": 85
        },
        "outputId": "1a2161fb-add3-4061-d74d-f96e86889c99"
      },
      "source": [
        "from sklearn.model_selection import StratifiedKFold\n",
        "\n",
        "best_model_loss = 1\n",
        "\n",
        "kfold = StratifiedKFold(n_splits=2, shuffle=True)\n",
        "\n",
        "for train_index,test_index in kfold.split(X, labels):\n",
        "  X_train, X_test = X[train_index], X[test_index]\n",
        "  Y_train, Y_test = Y[train_index], Y[test_index]\n",
        "  \n",
        "  model_iris = Classifier()\n",
        "  model_iris.compile(optimizer=keras.optimizers.SGD(learning_rate=0.1), loss=keras.losses.MeanSquaredError()) \n",
        "  model_iris.fit(X_train, Y_train, epochs=500, verbose=0)\n",
        "  \n",
        "  loss = model_iris.evaluate(X_test, Y_test)\n",
        "  if loss < best_model_loss:\n",
        "    best_model = model_iris\n",
        "    best_model_loss = loss\n",
        "  print('loss:', loss)"
      ],
      "execution_count": 15,
      "outputs": [
        {
          "output_type": "stream",
          "text": [
            "3/3 [==============================] - 0s 3ms/step - loss: 0.0188\n",
            "loss: 0.01880664750933647\n",
            "3/3 [==============================] - 0s 4ms/step - loss: 0.0141\n",
            "loss: 0.01409193966537714\n"
          ],
          "name": "stdout"
        }
      ]
    },
    {
      "cell_type": "code",
      "metadata": {
        "id": "9JxW1HAmuYmQ",
        "colab_type": "code",
        "colab": {
          "base_uri": "https://localhost:8080/",
          "height": 34
        },
        "outputId": "34375435-e8ec-41b1-e67d-3fdc7880e472"
      },
      "source": [
        "best_model_loss"
      ],
      "execution_count": 16,
      "outputs": [
        {
          "output_type": "execute_result",
          "data": {
            "text/plain": [
              "0.01409193966537714"
            ]
          },
          "metadata": {
            "tags": []
          },
          "execution_count": 16
        }
      ]
    }
  ]
}