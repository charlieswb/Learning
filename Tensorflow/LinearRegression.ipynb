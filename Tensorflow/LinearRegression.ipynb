{
  "nbformat": 4,
  "nbformat_minor": 0,
  "metadata": {
    "colab": {
      "name": "Untitled0.ipynb",
      "provenance": [],
      "authorship_tag": "ABX9TyMmaDZzg863ktqxfSrixQnS",
      "include_colab_link": true
    },
    "kernelspec": {
      "name": "python3",
      "display_name": "Python 3"
    },
    "accelerator": "GPU"
  },
  "cells": [
    {
      "cell_type": "markdown",
      "metadata": {
        "id": "view-in-github",
        "colab_type": "text"
      },
      "source": [
        "<a href=\"https://colab.research.google.com/github/charlieswb/Learning/blob/master/Tensorflow/LinearRegression.ipynb\" target=\"_parent\"><img src=\"https://colab.research.google.com/assets/colab-badge.svg\" alt=\"Open In Colab\"/></a>"
      ]
    },
    {
      "cell_type": "code",
      "metadata": {
        "id": "3L_h6JzbonO5",
        "colab_type": "code",
        "colab": {}
      },
      "source": [
        "%tensorflow_version 2.x"
      ],
      "execution_count": 2,
      "outputs": []
    },
    {
      "cell_type": "code",
      "metadata": {
        "id": "f1Q3HzIUpHIQ",
        "colab_type": "code",
        "colab": {
          "base_uri": "https://localhost:8080/",
          "height": 35
        },
        "outputId": "f41505f7-88cf-4224-c115-cc7ae0f23aa1"
      },
      "source": [
        "import tensorflow as tf\n",
        "tf.__version__"
      ],
      "execution_count": 3,
      "outputs": [
        {
          "output_type": "execute_result",
          "data": {
            "application/vnd.google.colaboratory.intrinsic": {
              "type": "string"
            },
            "text/plain": [
              "'2.2.0'"
            ]
          },
          "metadata": {
            "tags": []
          },
          "execution_count": 3
        }
      ]
    },
    {
      "cell_type": "code",
      "metadata": {
        "id": "CqeigBmEpIRJ",
        "colab_type": "code",
        "colab": {}
      },
      "source": [
        "import numpy as np\n",
        "import matplotlib.pyplot as plt"
      ],
      "execution_count": 4,
      "outputs": []
    },
    {
      "cell_type": "markdown",
      "metadata": {
        "id": "ffROpqR2q9Ts",
        "colab_type": "text"
      },
      "source": [
        "Mock up data"
      ]
    },
    {
      "cell_type": "code",
      "metadata": {
        "id": "IBdzW877pTu2",
        "colab_type": "code",
        "colab": {
          "base_uri": "https://localhost:8080/",
          "height": 265
        },
        "outputId": "8e65e588-2e71-46c5-d871-b4c428d7c385"
      },
      "source": [
        "X = np.random.rand(100)\n",
        "Y = 5 * X + 10 + 0.4 * np.random.rand(100)\n",
        "plt.scatter(X,Y)\n",
        "plt.show()"
      ],
      "execution_count": 5,
      "outputs": [
        {
          "output_type": "display_data",
          "data": {
            "image/png": "[encoded data removed]",
            "text/plain": [
              "<Figure size 432x288 with 1 Axes>"
            ]
          },
          "metadata": {
            "tags": [],
            "needs_background": "light"
          }
        }
      ]
    },
    {
      "cell_type": "code",
      "metadata": {
        "id": "EFQ5Ovl8rFRY",
        "colab_type": "code",
        "colab": {}
      },
      "source": [
        "W = tf.Variable(0, dtype='float32')\n",
        "b = tf.Variable(0, dtype='float32')\n",
        "lr = 0.1 # learning rate"
      ],
      "execution_count": 17,
      "outputs": []
    },
    {
      "cell_type": "code",
      "metadata": {
        "id": "eW6i72uB4e6Q",
        "colab_type": "code",
        "colab": {
          "base_uri": "https://localhost:8080/",
          "height": 357
        },
        "outputId": "dbcc5855-d829-429b-e073-3a77f2ce254b"
      },
      "source": [
        "for epoch in range(1000):\n",
        "  with tf.GradientTape() as tape:\n",
        "    y = W * X + b\n",
        "    loss = tf.reduce_mean(tf.square(y - Y))\n",
        "  dW, db = tape.gradient(loss, [W, b]) # de/dW, de/db\n",
        "  W.assign_sub(lr * dW)\n",
        "  b.assign_sub(lr * db)\n",
        "  if (epoch + 1) % 50 == 0:\n",
        "    print(epoch+1, W.numpy(), b.numpy(), loss.numpy())"
      ],
      "execution_count": 18,
      "outputs": [
        {
          "output_type": "stream",
          "text": [
            "50 5.011613 10.196576 0.013271309\n",
            "100 5.027519 10.188827 0.013205389\n",
            "150 5.0359864 10.184695 0.0131866895\n",
            "200 5.0404944 10.182496 0.0131814135\n",
            "250 5.0428953 10.181325 0.013179891\n",
            "300 5.044172 10.180702 0.013179477\n",
            "350 5.0448503 10.180372 0.01317935\n",
            "400 5.0452104 10.180195 0.013179326\n",
            "450 5.0454035 10.180101 0.013179313\n",
            "500 5.0455055 10.18005 0.013179319\n",
            "550 5.0455627 10.180024 0.013179313\n",
            "600 5.045589 10.180012 0.01317932\n",
            "650 5.0455976 10.180008 0.013179314\n",
            "700 5.0455976 10.180008 0.013179314\n",
            "750 5.0455976 10.180008 0.013179314\n",
            "800 5.0455976 10.180008 0.013179314\n",
            "850 5.0455976 10.180008 0.013179314\n",
            "900 5.0455976 10.180008 0.013179314\n",
            "950 5.0455976 10.180008 0.013179314\n",
            "1000 5.0455976 10.180008 0.013179314\n"
          ],
          "name": "stdout"
        }
      ]
    },
    {
      "cell_type": "code",
      "metadata": {
        "id": "13en0VwW6ukX",
        "colab_type": "code",
        "colab": {
          "base_uri": "https://localhost:8080/",
          "height": 265
        },
        "outputId": "cb80724f-444b-4c23-e1c8-6a40f961e0f4"
      },
      "source": [
        "Z = W * X + b\n",
        "plt.plot(X, Y, '.')\n",
        "plt.plot(X, Z, '.r')\n",
        "plt.show()"
      ],
      "execution_count": 19,
      "outputs": [
        {
          "output_type": "display_data",
          "data": {
            "image/png": "[encoded data removed]",
            "text/plain": [
              "<Figure size 432x288 with 1 Axes>"
            ]
          },
          "metadata": {
            "tags": [],
            "needs_background": "light"
          }
        }
      ]
    },
    {
      "cell_type": "code",
      "metadata": {
        "id": "L3KYVcUj8Peb",
        "colab_type": "code",
        "colab": {}
      },
      "source": [
        ""
      ],
      "execution_count": null,
      "outputs": []
    }
  ]
}