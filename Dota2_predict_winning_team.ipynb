{
  "nbformat": 4,
  "nbformat_minor": 0,
  "metadata": {
    "colab": {
      "name": "Dota2 predict winning team.ipynb",
      "provenance": [],
      "authorship_tag": "ABX9TyPYb2EuT4Il+ylVNkOByw5k",
      "include_colab_link": true
    },
    "kernelspec": {
      "name": "python3",
      "display_name": "Python 3"
    },
    "accelerator": "GPU"
  },
  "cells": [
    {
      "cell_type": "markdown",
      "metadata": {
        "id": "view-in-github",
        "colab_type": "text"
      },
      "source": [
        "<a href=\"https://colab.research.google.com/github/charlieswb/Learning/blob/master/Dota2_predict_winning_team.ipynb\" target=\"_parent\"><img src=\"https://colab.research.google.com/assets/colab-badge.svg\" alt=\"Open In Colab\"/></a>"
      ]
    },
    {
      "cell_type": "code",
      "metadata": {
        "id": "LEpCAFfeULOB",
        "colab_type": "code",
        "colab": {
          "base_uri": "https://localhost:8080/",
          "height": 71
        },
        "outputId": "eadba85e-b3c4-4793-f96f-77608d22d539"
      },
      "source": [
        "import numpy as np # linear algebra\n",
        "import pandas as pd # data processing, CSV file I/O (e.g. pd.read_csv)\n",
        "import matplotlib.pyplot as plt\n",
        "import seaborn as sns\n",
        "import tensorflow as tf\n",
        "from tensorflow import keras\n",
        "from tensorflow.keras.layers import Dense\n",
        "from sklearn.model_selection import train_test_split\n",
        "from sklearn.model_selection import StratifiedKFold"
      ],
      "execution_count": null,
      "outputs": [
        {
          "output_type": "stream",
          "text": [
            "/usr/local/lib/python3.6/dist-packages/statsmodels/tools/_testing.py:19: FutureWarning: pandas.util.testing is deprecated. Use the functions in the public API at pandas.testing instead.\n",
            "  import pandas.util.testing as tm\n"
          ],
          "name": "stderr"
        }
      ]
    },
    {
      "cell_type": "code",
      "metadata": {
        "id": "6nKtbBsNUP2B",
        "colab_type": "code",
        "colab": {}
      },
      "source": [
        "df = pd.read_csv('/content/dota_games.txt', header = None)\n",
        "df = df.rename(columns={0: 'radiant_1', 1: 'radiant_2', 2: 'radiant_3', 3: 'radiant_4', 4: 'radiant_5',\\\n",
        "                        5: 'dire_1', 6: 'dire_2', 7: 'dire_3', 8: 'dire_4', 9: 'dire_5', 10: 'team_win'})"
      ],
      "execution_count": null,
      "outputs": []
    },
    {
      "cell_type": "code",
      "metadata": {
        "id": "4sx38KSAUlPa",
        "colab_type": "code",
        "colab": {
          "base_uri": "https://localhost:8080/",
          "height": 359
        },
        "outputId": "7cd1f522-b131-4b59-912d-288f8fec8bef"
      },
      "source": [
        "df.loc[df['team_win']==1, 'result'] = 'Radiant'\n",
        "df.loc[df['team_win']==2, 'result'] = 'Dire'\n",
        "df = df.drop(['team_win'], axis=1)\n",
        "df.head(10)"
      ],
      "execution_count": null,
      "outputs": [
        {
          "output_type": "execute_result",
          "data": {
            "text/html": [
              "<div>\n",
              "<style scoped>\n",
              "    .dataframe tbody tr th:only-of-type {\n",
              "        vertical-align: middle;\n",
              "    }\n",
              "\n",
              "    .dataframe tbody tr th {\n",
              "        vertical-align: top;\n",
              "    }\n",
              "\n",
              "    .dataframe thead th {\n",
              "        text-align: right;\n",
              "    }\n",
              "</style>\n",
              "<table border=\"1\" class=\"dataframe\">\n",
              "  <thead>\n",
              "    <tr style=\"text-align: right;\">\n",
              "      <th></th>\n",
              "      <th>radiant_1</th>\n",
              "      <th>radiant_2</th>\n",
              "      <th>radiant_3</th>\n",
              "      <th>radiant_4</th>\n",
              "      <th>radiant_5</th>\n",
              "      <th>dire_1</th>\n",
              "      <th>dire_2</th>\n",
              "      <th>dire_3</th>\n",
              "      <th>dire_4</th>\n",
              "      <th>dire_5</th>\n",
              "      <th>result</th>\n",
              "    </tr>\n",
              "  </thead>\n",
              "  <tbody>\n",
              "    <tr>\n",
              "      <th>0</th>\n",
              "      <td>Sven</td>\n",
              "      <td>Lone Druid</td>\n",
              "      <td>Venomancer</td>\n",
              "      <td>Clockwerk</td>\n",
              "      <td>Shadow Shaman</td>\n",
              "      <td>Invoker</td>\n",
              "      <td>Gyrocopter</td>\n",
              "      <td>Anti-Mage</td>\n",
              "      <td>Alchemist</td>\n",
              "      <td>Slark</td>\n",
              "      <td>Dire</td>\n",
              "    </tr>\n",
              "    <tr>\n",
              "      <th>1</th>\n",
              "      <td>Riki</td>\n",
              "      <td>Tinker</td>\n",
              "      <td>Puck</td>\n",
              "      <td>Leshrac</td>\n",
              "      <td>Nyx Assassin</td>\n",
              "      <td>Slardar</td>\n",
              "      <td>Sand King</td>\n",
              "      <td>Spectre</td>\n",
              "      <td>Necrolyte</td>\n",
              "      <td>Warlock</td>\n",
              "      <td>Radiant</td>\n",
              "    </tr>\n",
              "    <tr>\n",
              "      <th>2</th>\n",
              "      <td>Invoker</td>\n",
              "      <td>Mirana</td>\n",
              "      <td>Pudge</td>\n",
              "      <td>Magnus</td>\n",
              "      <td>Keeper of the Light</td>\n",
              "      <td>Rubick</td>\n",
              "      <td>Tidehunter</td>\n",
              "      <td>Queen of Pain</td>\n",
              "      <td>Faceless Void</td>\n",
              "      <td>Sniper</td>\n",
              "      <td>Dire</td>\n",
              "    </tr>\n",
              "    <tr>\n",
              "      <th>3</th>\n",
              "      <td>Riki</td>\n",
              "      <td>Centaur Warrunner</td>\n",
              "      <td>Treant Protector</td>\n",
              "      <td>Queen of Pain</td>\n",
              "      <td>Broodmother</td>\n",
              "      <td>Rubick</td>\n",
              "      <td>Weaver</td>\n",
              "      <td>Troll Warlord</td>\n",
              "      <td>Alchemist</td>\n",
              "      <td>Drow Ranger</td>\n",
              "      <td>Radiant</td>\n",
              "    </tr>\n",
              "    <tr>\n",
              "      <th>4</th>\n",
              "      <td>Razor</td>\n",
              "      <td>Kunkka</td>\n",
              "      <td>Drow Ranger</td>\n",
              "      <td>Leshrac</td>\n",
              "      <td>Zeus</td>\n",
              "      <td>Riki</td>\n",
              "      <td>Bane</td>\n",
              "      <td>Visage</td>\n",
              "      <td>Invoker</td>\n",
              "      <td>Timbersaw</td>\n",
              "      <td>Radiant</td>\n",
              "    </tr>\n",
              "    <tr>\n",
              "      <th>5</th>\n",
              "      <td>Sand King</td>\n",
              "      <td>Shadow Shaman</td>\n",
              "      <td>Silencer</td>\n",
              "      <td>Gyrocopter</td>\n",
              "      <td>Meepo</td>\n",
              "      <td>Nyx Assassin</td>\n",
              "      <td>Slark</td>\n",
              "      <td>Mirana</td>\n",
              "      <td>Rubick</td>\n",
              "      <td>Queen of Pain</td>\n",
              "      <td>Dire</td>\n",
              "    </tr>\n",
              "    <tr>\n",
              "      <th>6</th>\n",
              "      <td>Morphling</td>\n",
              "      <td>Omniknight</td>\n",
              "      <td>Pudge</td>\n",
              "      <td>Crystal Maiden</td>\n",
              "      <td>Razor</td>\n",
              "      <td>Troll Warlord</td>\n",
              "      <td>Tidehunter</td>\n",
              "      <td>Lina</td>\n",
              "      <td>Dark Seer</td>\n",
              "      <td>Gyrocopter</td>\n",
              "      <td>Radiant</td>\n",
              "    </tr>\n",
              "    <tr>\n",
              "      <th>7</th>\n",
              "      <td>Brewmaster</td>\n",
              "      <td>Leshrac</td>\n",
              "      <td>Ogre Magi</td>\n",
              "      <td>Kunkka</td>\n",
              "      <td>Riki</td>\n",
              "      <td>Disruptor</td>\n",
              "      <td>Juggernaut</td>\n",
              "      <td>Tiny</td>\n",
              "      <td>Enigma</td>\n",
              "      <td>Bounty Hunter</td>\n",
              "      <td>Radiant</td>\n",
              "    </tr>\n",
              "    <tr>\n",
              "      <th>8</th>\n",
              "      <td>Slardar</td>\n",
              "      <td>Earthshaker</td>\n",
              "      <td>Invoker</td>\n",
              "      <td>Slark</td>\n",
              "      <td>Doom</td>\n",
              "      <td>Necrolyte</td>\n",
              "      <td>Timbersaw</td>\n",
              "      <td>Bounty Hunter</td>\n",
              "      <td>Huskar</td>\n",
              "      <td>Razor</td>\n",
              "      <td>Radiant</td>\n",
              "    </tr>\n",
              "    <tr>\n",
              "      <th>9</th>\n",
              "      <td>Dazzle</td>\n",
              "      <td>Naga Siren</td>\n",
              "      <td>Ogre Magi</td>\n",
              "      <td>Pudge</td>\n",
              "      <td>Nature's Prophet</td>\n",
              "      <td>Chen</td>\n",
              "      <td>Puck</td>\n",
              "      <td>Timbersaw</td>\n",
              "      <td>Magnus</td>\n",
              "      <td>Ursa</td>\n",
              "      <td>Dire</td>\n",
              "    </tr>\n",
              "  </tbody>\n",
              "</table>\n",
              "</div>"
            ],
            "text/plain": [
              "    radiant_1          radiant_2  ...         dire_5   result\n",
              "0        Sven         Lone Druid  ...          Slark     Dire\n",
              "1        Riki             Tinker  ...        Warlock  Radiant\n",
              "2     Invoker             Mirana  ...         Sniper     Dire\n",
              "3        Riki  Centaur Warrunner  ...    Drow Ranger  Radiant\n",
              "4       Razor             Kunkka  ...      Timbersaw  Radiant\n",
              "5   Sand King      Shadow Shaman  ...  Queen of Pain     Dire\n",
              "6   Morphling         Omniknight  ...     Gyrocopter  Radiant\n",
              "7  Brewmaster            Leshrac  ...  Bounty Hunter  Radiant\n",
              "8     Slardar        Earthshaker  ...          Razor  Radiant\n",
              "9      Dazzle         Naga Siren  ...           Ursa     Dire\n",
              "\n",
              "[10 rows x 11 columns]"
            ]
          },
          "metadata": {
            "tags": []
          },
          "execution_count": 3
        }
      ]
    },
    {
      "cell_type": "code",
      "metadata": {
        "id": "54waqVDmUjqg",
        "colab_type": "code",
        "colab": {}
      },
      "source": [
        "X = df.drop(['result'], axis=1)\n",
        "labels = df['result']\n",
        "Y = pd.get_dummies(labels, dtype='float32').values"
      ],
      "execution_count": null,
      "outputs": []
    },
    {
      "cell_type": "code",
      "metadata": {
        "id": "RTNbZ_LdUpuT",
        "colab_type": "code",
        "colab": {}
      },
      "source": [
        "r = X.iloc[:,:5]\n",
        "d = X.iloc[:,5:]\n",
        "r = r.stack().str.get_dummies().sum(level=0).astype('float32')\n",
        "d = d.stack().str.get_dummies().sum(level=0).astype('float32')"
      ],
      "execution_count": null,
      "outputs": []
    },
    {
      "cell_type": "code",
      "metadata": {
        "id": "ZcbCDwmxUqWC",
        "colab_type": "code",
        "colab": {
          "base_uri": "https://localhost:8080/",
          "height": 153
        },
        "outputId": "5ee71b5d-35ff-429a-d108-1ce19a29462d"
      },
      "source": [
        "X = r.values - d.values\n",
        "print(X.shape)\n",
        "X"
      ],
      "execution_count": null,
      "outputs": [
        {
          "output_type": "stream",
          "text": [
            "(15000, 97)\n"
          ],
          "name": "stdout"
        },
        {
          "output_type": "execute_result",
          "data": {
            "text/plain": [
              "array([[-1.,  0., -1., ...,  0.,  0.,  0.],\n",
              "       [ 0.,  0.,  0., ...,  0.,  0.,  0.],\n",
              "       [ 0.,  0.,  0., ...,  0.,  0.,  0.],\n",
              "       ...,\n",
              "       [ 0.,  0.,  0., ...,  0.,  0.,  0.],\n",
              "       [ 0.,  0.,  0., ...,  0.,  0.,  0.],\n",
              "       [ 0.,  0.,  0., ...,  0.,  0.,  0.]], dtype=float32)"
            ]
          },
          "metadata": {
            "tags": []
          },
          "execution_count": 6
        }
      ]
    },
    {
      "cell_type": "code",
      "metadata": {
        "id": "chVVDsy7Ussf",
        "colab_type": "code",
        "colab": {}
      },
      "source": [
        "class Classifier(keras.Model):\n",
        "  def __init__(self):\n",
        "    super().__init__()\n",
        "    self.l1 = Dense(97)\n",
        "    self.l2 = Dense(97)\n",
        "    self.l3 = Dense(97)\n",
        "    self.l4 = Dense(97)\n",
        "    self.l5 = Dense(97)\n",
        "    self.l6 = Dense(97)\n",
        "    self.l7 = Dense(97)\n",
        "    self.l8 = Dense(97)\n",
        "    self.l9 = Dense(97)\n",
        "    self.l10 = Dense(2)\n",
        "  def call(self, inputs):\n",
        "    x = self.l1(inputs)\n",
        "    x = self.l2(x)\n",
        "    x = self.l3(x)\n",
        "    x = self.l4(x)\n",
        "    x = self.l5(x)\n",
        "    x = self.l6(x)\n",
        "    x = self.l7(x)\n",
        "    x = self.l8(x)\n",
        "    x = self.l9(x)\n",
        "    x = self.l10(x)\n",
        "    return x"
      ],
      "execution_count": null,
      "outputs": []
    },
    {
      "cell_type": "code",
      "metadata": {
        "id": "mF26yyt8Ut2Z",
        "colab_type": "code",
        "colab": {
          "base_uri": "https://localhost:8080/",
          "height": 221
        },
        "outputId": "d58a11dd-3694-413d-8342-d276ca9b7d80"
      },
      "source": [
        "best_model_loss = 1\n",
        "n_epochs = 300\n",
        "kfold = StratifiedKFold(n_splits=6, shuffle=True)\n",
        "\n",
        "for train_index,test_index in kfold.split(X, labels):\n",
        "  X_train, X_test = X[train_index], X[test_index]\n",
        "  Y_train, Y_test = Y[train_index], Y[test_index]\n",
        "  \n",
        "  model = Classifier()\n",
        "  model.compile(optimizer=keras.optimizers.SGD(learning_rate=0.0001), loss=keras.losses.MeanSquaredError()) \n",
        "  model.fit(X_train, Y_train, epochs=200, verbose=0)\n",
        "  \n",
        "  loss = model.evaluate(X_test, Y_test)\n",
        "  if loss < best_model_loss:\n",
        "    best_model = model\n",
        "    best_model_loss = loss\n",
        "  print('loss:', loss)"
      ],
      "execution_count": null,
      "outputs": [
        {
          "output_type": "stream",
          "text": [
            "79/79 [==============================] - 0s 2ms/step - loss: 0.2500\n",
            "loss: 0.2499718815088272\n",
            "79/79 [==============================] - 0s 1ms/step - loss: 0.2499\n",
            "loss: 0.24985751509666443\n",
            "79/79 [==============================] - 0s 1ms/step - loss: 0.2515\n",
            "loss: 0.251483678817749\n",
            "79/79 [==============================] - 0s 1ms/step - loss: 0.2500\n",
            "loss: 0.25000637769699097\n",
            "79/79 [==============================] - 0s 1ms/step - loss: 0.2500\n",
            "loss: 0.25001755356788635\n",
            "79/79 [==============================] - 0s 1ms/step - loss: 0.2497\n",
            "loss: 0.2496758997440338\n"
          ],
          "name": "stdout"
        }
      ]
    },
    {
      "cell_type": "code",
      "metadata": {
        "id": "gbbV_C2Xa0UJ",
        "colab_type": "code",
        "colab": {}
      },
      "source": [
        "X_train, X_test, Y_train, Y_test = train_test_split(X, Y, test_size=0.2, random_state=33)"
      ],
      "execution_count": null,
      "outputs": []
    },
    {
      "cell_type": "code",
      "metadata": {
        "id": "S0RF1DK9UwvI",
        "colab_type": "code",
        "colab": {}
      },
      "source": [
        "model = Classifier()\n",
        "model.compile(optimizer=keras.optimizers.SGD(learning_rate=0.00009), loss=keras.losses.MeanSquaredError())"
      ],
      "execution_count": null,
      "outputs": []
    },
    {
      "cell_type": "code",
      "metadata": {
        "id": "bwzPC___bWo1",
        "colab_type": "code",
        "colab": {
          "base_uri": "https://localhost:8080/",
          "height": 34
        },
        "outputId": "23cc8c3b-0ee7-4e5e-a563-bcee4759a5e9"
      },
      "source": [
        "model.fit(X_train, Y_train, epochs=20, verbose=0)"
      ],
      "execution_count": null,
      "outputs": [
        {
          "output_type": "execute_result",
          "data": {
            "text/plain": [
              "<tensorflow.python.keras.callbacks.History at 0x7f8064fb95c0>"
            ]
          },
          "metadata": {
            "tags": []
          },
          "execution_count": 45
        }
      ]
    },
    {
      "cell_type": "code",
      "metadata": {
        "id": "2eKX2IpiboEF",
        "colab_type": "code",
        "colab": {
          "base_uri": "https://localhost:8080/",
          "height": 51
        },
        "outputId": "bc1c0be5-14e0-420b-bc8a-f88520178b61"
      },
      "source": [
        "print('loss:', model.evaluate(X_test, Y_test))"
      ],
      "execution_count": null,
      "outputs": [
        {
          "output_type": "stream",
          "text": [
            "94/94 [==============================] - 0s 1ms/step - loss: 0.2522\n",
            "loss: 0.2521933913230896\n"
          ],
          "name": "stdout"
        }
      ]
    },
    {
      "cell_type": "code",
      "metadata": {
        "id": "_4OPPcMmcnK8",
        "colab_type": "code",
        "colab": {}
      },
      "source": [
        ""
      ],
      "execution_count": null,
      "outputs": []
    }
  ]
}